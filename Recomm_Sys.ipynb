{
  "nbformat": 4,
  "nbformat_minor": 0,
  "metadata": {
    "colab": {
      "name": "Recomm.ipynb",
      "provenance": [],
      "mount_file_id": "1zbbaHeGYU2TcUF2XALfnxgseqfPtdb1z",
      "authorship_tag": "ABX9TyNxvrR8c+KeycfH3/VMDPcx",
      "include_colab_link": true
    },
    "kernelspec": {
      "name": "python3",
      "display_name": "Python 3"
    },
    "language_info": {
      "name": "python"
    }
  },
  "cells": [
    {
      "cell_type": "markdown",
      "metadata": {
        "id": "view-in-github",
        "colab_type": "text"
      },
      "source": [
        "<a href=\"https://colab.research.google.com/github/Murolando/first_recomm_system/blob/main/Recomm_Sys.ipynb\" target=\"_parent\"><img src=\"https://colab.research.google.com/assets/colab-badge.svg\" alt=\"Open In Colab\"/></a>"
      ]
    },
    {
      "cell_type": "markdown",
      "source": [
        "# Рекомендательная система по подбору фильму\n",
        "### Рекомендательные системы бывают 3 типов:\n",
        "\n",
        "\n",
        "*   По популярности (просто, но не индивидуально)\n",
        "*   На основе содержания (похоже, на то, что ты делал раньше, очень просто, но новы вещи не смотрятся и не открываются)\n",
        "*   Колаборативная система (пользователи и предметы ) \n",
        "\n",
        "\n",
        "---\n",
        "\n",
        "\n",
        "\n",
        "*   Если основано на пользователях, то обыно рекомендуются товары схожих пользователей\n",
        "*   Если основано на предмете рекомендации, то обычно сравнивают схожести этих предметов, т.е. близость определяется, но основе всех пользователей (обычно косинусное сходство)  - тут будет реализованно именно так. Но затем я буду улучшать и усложнять данную модель.\n",
        "\n",
        "\n",
        "Реализовано на основе этой статьи: [https://www.dmitrymakarov.ru/intro/recommender-17/]\n",
        "\n",
        "Векторная модель, кста"
      ],
      "metadata": {
        "id": "6D0xJ3-aksAJ"
      }
    },
    {
      "cell_type": "markdown",
      "source": [
        "### Подготовка\n"
      ],
      "metadata": {
        "id": "NQZVUhTenX7A"
      }
    },
    {
      "cell_type": "code",
      "source": [
        "import pandas as pd\n",
        "import numpy as np\n",
        "\n",
        "from sklearn.neighbors import NearestNeighbors\n",
        "\n",
        "\n",
        "# Для работы с разреженными матрицам\n",
        "from scipy.sparse import csr_matrix"
      ],
      "metadata": {
        "id": "TTgnPs8CksR6"
      },
      "execution_count": 92,
      "outputs": []
    },
    {
      "cell_type": "code",
      "execution_count": 93,
      "metadata": {
        "id": "WommV1VokQWl"
      },
      "outputs": [],
      "source": [
        "df_movies = pd.read_csv('/content/drive/MyDrive/ML Pr/Recoms_of_films/movies.csv')\n",
        "df_rates = pd.read_csv('/content/drive/MyDrive/ML Pr/Recoms_of_films/ratings.csv')\n"
      ]
    },
    {
      "cell_type": "code",
      "source": [
        "df_movies.info()"
      ],
      "metadata": {
        "colab": {
          "base_uri": "https://localhost:8080/"
        },
        "id": "-ZkMzehTnGty",
        "outputId": "f3803eca-aefa-43ef-af4a-7b4b6748493c"
      },
      "execution_count": 94,
      "outputs": [
        {
          "output_type": "stream",
          "name": "stdout",
          "text": [
            "<class 'pandas.core.frame.DataFrame'>\n",
            "RangeIndex: 9742 entries, 0 to 9741\n",
            "Data columns (total 3 columns):\n",
            " #   Column   Non-Null Count  Dtype \n",
            "---  ------   --------------  ----- \n",
            " 0   movieId  9742 non-null   int64 \n",
            " 1   title    9742 non-null   object\n",
            " 2   genres   9742 non-null   object\n",
            "dtypes: int64(1), object(2)\n",
            "memory usage: 228.5+ KB\n"
          ]
        }
      ]
    },
    {
      "cell_type": "code",
      "source": [
        "df_rates.info()"
      ],
      "metadata": {
        "colab": {
          "base_uri": "https://localhost:8080/"
        },
        "id": "OuHdIG30nJWs",
        "outputId": "239be707-34f7-4e5d-a0bc-c490634109eb"
      },
      "execution_count": 95,
      "outputs": [
        {
          "output_type": "stream",
          "name": "stdout",
          "text": [
            "<class 'pandas.core.frame.DataFrame'>\n",
            "RangeIndex: 100836 entries, 0 to 100835\n",
            "Data columns (total 4 columns):\n",
            " #   Column     Non-Null Count   Dtype  \n",
            "---  ------     --------------   -----  \n",
            " 0   userId     100836 non-null  int64  \n",
            " 1   movieId    100836 non-null  int64  \n",
            " 2   rating     100836 non-null  float64\n",
            " 3   timestamp  100836 non-null  int64  \n",
            "dtypes: float64(1), int64(3)\n",
            "memory usage: 3.1 MB\n"
          ]
        }
      ]
    },
    {
      "cell_type": "code",
      "source": [
        "# сводная таблица\n",
        "user_item_matrix = df_rates.pivot(index = 'movieId', columns = 'userId', values= 'rating')\n",
        "user_item_matrix.head()"
      ],
      "metadata": {
        "colab": {
          "base_uri": "https://localhost:8080/",
          "height": 267
        },
        "id": "_OdF3xkMnLTE",
        "outputId": "ac7467aa-a78c-48d9-faaa-0b868514a9b9"
      },
      "execution_count": 96,
      "outputs": [
        {
          "output_type": "execute_result",
          "data": {
            "text/plain": [
              "userId   1    2    3    4    5    6    7    8    9    10   ...  601  602  603  \\\n",
              "movieId                                                    ...                  \n",
              "1        4.0  NaN  NaN  NaN  4.0  NaN  4.5  NaN  NaN  NaN  ...  4.0  NaN  4.0   \n",
              "2        NaN  NaN  NaN  NaN  NaN  4.0  NaN  4.0  NaN  NaN  ...  NaN  4.0  NaN   \n",
              "3        4.0  NaN  NaN  NaN  NaN  5.0  NaN  NaN  NaN  NaN  ...  NaN  NaN  NaN   \n",
              "4        NaN  NaN  NaN  NaN  NaN  3.0  NaN  NaN  NaN  NaN  ...  NaN  NaN  NaN   \n",
              "5        NaN  NaN  NaN  NaN  NaN  5.0  NaN  NaN  NaN  NaN  ...  NaN  NaN  NaN   \n",
              "\n",
              "userId   604  605  606  607  608  609  610  \n",
              "movieId                                     \n",
              "1        3.0  4.0  2.5  4.0  2.5  3.0  5.0  \n",
              "2        5.0  3.5  NaN  NaN  2.0  NaN  NaN  \n",
              "3        NaN  NaN  NaN  NaN  2.0  NaN  NaN  \n",
              "4        NaN  NaN  NaN  NaN  NaN  NaN  NaN  \n",
              "5        3.0  NaN  NaN  NaN  NaN  NaN  NaN  \n",
              "\n",
              "[5 rows x 610 columns]"
            ],
            "text/html": [
              "\n",
              "  <div id=\"df-0058dbc2-8a3c-4916-af0c-cc82ea240cdf\">\n",
              "    <div class=\"colab-df-container\">\n",
              "      <div>\n",
              "<style scoped>\n",
              "    .dataframe tbody tr th:only-of-type {\n",
              "        vertical-align: middle;\n",
              "    }\n",
              "\n",
              "    .dataframe tbody tr th {\n",
              "        vertical-align: top;\n",
              "    }\n",
              "\n",
              "    .dataframe thead th {\n",
              "        text-align: right;\n",
              "    }\n",
              "</style>\n",
              "<table border=\"1\" class=\"dataframe\">\n",
              "  <thead>\n",
              "    <tr style=\"text-align: right;\">\n",
              "      <th>userId</th>\n",
              "      <th>1</th>\n",
              "      <th>2</th>\n",
              "      <th>3</th>\n",
              "      <th>4</th>\n",
              "      <th>5</th>\n",
              "      <th>6</th>\n",
              "      <th>7</th>\n",
              "      <th>8</th>\n",
              "      <th>9</th>\n",
              "      <th>10</th>\n",
              "      <th>...</th>\n",
              "      <th>601</th>\n",
              "      <th>602</th>\n",
              "      <th>603</th>\n",
              "      <th>604</th>\n",
              "      <th>605</th>\n",
              "      <th>606</th>\n",
              "      <th>607</th>\n",
              "      <th>608</th>\n",
              "      <th>609</th>\n",
              "      <th>610</th>\n",
              "    </tr>\n",
              "    <tr>\n",
              "      <th>movieId</th>\n",
              "      <th></th>\n",
              "      <th></th>\n",
              "      <th></th>\n",
              "      <th></th>\n",
              "      <th></th>\n",
              "      <th></th>\n",
              "      <th></th>\n",
              "      <th></th>\n",
              "      <th></th>\n",
              "      <th></th>\n",
              "      <th></th>\n",
              "      <th></th>\n",
              "      <th></th>\n",
              "      <th></th>\n",
              "      <th></th>\n",
              "      <th></th>\n",
              "      <th></th>\n",
              "      <th></th>\n",
              "      <th></th>\n",
              "      <th></th>\n",
              "      <th></th>\n",
              "    </tr>\n",
              "  </thead>\n",
              "  <tbody>\n",
              "    <tr>\n",
              "      <th>1</th>\n",
              "      <td>4.0</td>\n",
              "      <td>NaN</td>\n",
              "      <td>NaN</td>\n",
              "      <td>NaN</td>\n",
              "      <td>4.0</td>\n",
              "      <td>NaN</td>\n",
              "      <td>4.5</td>\n",
              "      <td>NaN</td>\n",
              "      <td>NaN</td>\n",
              "      <td>NaN</td>\n",
              "      <td>...</td>\n",
              "      <td>4.0</td>\n",
              "      <td>NaN</td>\n",
              "      <td>4.0</td>\n",
              "      <td>3.0</td>\n",
              "      <td>4.0</td>\n",
              "      <td>2.5</td>\n",
              "      <td>4.0</td>\n",
              "      <td>2.5</td>\n",
              "      <td>3.0</td>\n",
              "      <td>5.0</td>\n",
              "    </tr>\n",
              "    <tr>\n",
              "      <th>2</th>\n",
              "      <td>NaN</td>\n",
              "      <td>NaN</td>\n",
              "      <td>NaN</td>\n",
              "      <td>NaN</td>\n",
              "      <td>NaN</td>\n",
              "      <td>4.0</td>\n",
              "      <td>NaN</td>\n",
              "      <td>4.0</td>\n",
              "      <td>NaN</td>\n",
              "      <td>NaN</td>\n",
              "      <td>...</td>\n",
              "      <td>NaN</td>\n",
              "      <td>4.0</td>\n",
              "      <td>NaN</td>\n",
              "      <td>5.0</td>\n",
              "      <td>3.5</td>\n",
              "      <td>NaN</td>\n",
              "      <td>NaN</td>\n",
              "      <td>2.0</td>\n",
              "      <td>NaN</td>\n",
              "      <td>NaN</td>\n",
              "    </tr>\n",
              "    <tr>\n",
              "      <th>3</th>\n",
              "      <td>4.0</td>\n",
              "      <td>NaN</td>\n",
              "      <td>NaN</td>\n",
              "      <td>NaN</td>\n",
              "      <td>NaN</td>\n",
              "      <td>5.0</td>\n",
              "      <td>NaN</td>\n",
              "      <td>NaN</td>\n",
              "      <td>NaN</td>\n",
              "      <td>NaN</td>\n",
              "      <td>...</td>\n",
              "      <td>NaN</td>\n",
              "      <td>NaN</td>\n",
              "      <td>NaN</td>\n",
              "      <td>NaN</td>\n",
              "      <td>NaN</td>\n",
              "      <td>NaN</td>\n",
              "      <td>NaN</td>\n",
              "      <td>2.0</td>\n",
              "      <td>NaN</td>\n",
              "      <td>NaN</td>\n",
              "    </tr>\n",
              "    <tr>\n",
              "      <th>4</th>\n",
              "      <td>NaN</td>\n",
              "      <td>NaN</td>\n",
              "      <td>NaN</td>\n",
              "      <td>NaN</td>\n",
              "      <td>NaN</td>\n",
              "      <td>3.0</td>\n",
              "      <td>NaN</td>\n",
              "      <td>NaN</td>\n",
              "      <td>NaN</td>\n",
              "      <td>NaN</td>\n",
              "      <td>...</td>\n",
              "      <td>NaN</td>\n",
              "      <td>NaN</td>\n",
              "      <td>NaN</td>\n",
              "      <td>NaN</td>\n",
              "      <td>NaN</td>\n",
              "      <td>NaN</td>\n",
              "      <td>NaN</td>\n",
              "      <td>NaN</td>\n",
              "      <td>NaN</td>\n",
              "      <td>NaN</td>\n",
              "    </tr>\n",
              "    <tr>\n",
              "      <th>5</th>\n",
              "      <td>NaN</td>\n",
              "      <td>NaN</td>\n",
              "      <td>NaN</td>\n",
              "      <td>NaN</td>\n",
              "      <td>NaN</td>\n",
              "      <td>5.0</td>\n",
              "      <td>NaN</td>\n",
              "      <td>NaN</td>\n",
              "      <td>NaN</td>\n",
              "      <td>NaN</td>\n",
              "      <td>...</td>\n",
              "      <td>NaN</td>\n",
              "      <td>NaN</td>\n",
              "      <td>NaN</td>\n",
              "      <td>3.0</td>\n",
              "      <td>NaN</td>\n",
              "      <td>NaN</td>\n",
              "      <td>NaN</td>\n",
              "      <td>NaN</td>\n",
              "      <td>NaN</td>\n",
              "      <td>NaN</td>\n",
              "    </tr>\n",
              "  </tbody>\n",
              "</table>\n",
              "<p>5 rows × 610 columns</p>\n",
              "</div>\n",
              "      <button class=\"colab-df-convert\" onclick=\"convertToInteractive('df-0058dbc2-8a3c-4916-af0c-cc82ea240cdf')\"\n",
              "              title=\"Convert this dataframe to an interactive table.\"\n",
              "              style=\"display:none;\">\n",
              "        \n",
              "  <svg xmlns=\"http://www.w3.org/2000/svg\" height=\"24px\"viewBox=\"0 0 24 24\"\n",
              "       width=\"24px\">\n",
              "    <path d=\"M0 0h24v24H0V0z\" fill=\"none\"/>\n",
              "    <path d=\"M18.56 5.44l.94 2.06.94-2.06 2.06-.94-2.06-.94-.94-2.06-.94 2.06-2.06.94zm-11 1L8.5 8.5l.94-2.06 2.06-.94-2.06-.94L8.5 2.5l-.94 2.06-2.06.94zm10 10l.94 2.06.94-2.06 2.06-.94-2.06-.94-.94-2.06-.94 2.06-2.06.94z\"/><path d=\"M17.41 7.96l-1.37-1.37c-.4-.4-.92-.59-1.43-.59-.52 0-1.04.2-1.43.59L10.3 9.45l-7.72 7.72c-.78.78-.78 2.05 0 2.83L4 21.41c.39.39.9.59 1.41.59.51 0 1.02-.2 1.41-.59l7.78-7.78 2.81-2.81c.8-.78.8-2.07 0-2.86zM5.41 20L4 18.59l7.72-7.72 1.47 1.35L5.41 20z\"/>\n",
              "  </svg>\n",
              "      </button>\n",
              "      \n",
              "  <style>\n",
              "    .colab-df-container {\n",
              "      display:flex;\n",
              "      flex-wrap:wrap;\n",
              "      gap: 12px;\n",
              "    }\n",
              "\n",
              "    .colab-df-convert {\n",
              "      background-color: #E8F0FE;\n",
              "      border: none;\n",
              "      border-radius: 50%;\n",
              "      cursor: pointer;\n",
              "      display: none;\n",
              "      fill: #1967D2;\n",
              "      height: 32px;\n",
              "      padding: 0 0 0 0;\n",
              "      width: 32px;\n",
              "    }\n",
              "\n",
              "    .colab-df-convert:hover {\n",
              "      background-color: #E2EBFA;\n",
              "      box-shadow: 0px 1px 2px rgba(60, 64, 67, 0.3), 0px 1px 3px 1px rgba(60, 64, 67, 0.15);\n",
              "      fill: #174EA6;\n",
              "    }\n",
              "\n",
              "    [theme=dark] .colab-df-convert {\n",
              "      background-color: #3B4455;\n",
              "      fill: #D2E3FC;\n",
              "    }\n",
              "\n",
              "    [theme=dark] .colab-df-convert:hover {\n",
              "      background-color: #434B5C;\n",
              "      box-shadow: 0px 1px 3px 1px rgba(0, 0, 0, 0.15);\n",
              "      filter: drop-shadow(0px 1px 2px rgba(0, 0, 0, 0.3));\n",
              "      fill: #FFFFFF;\n",
              "    }\n",
              "  </style>\n",
              "\n",
              "      <script>\n",
              "        const buttonEl =\n",
              "          document.querySelector('#df-0058dbc2-8a3c-4916-af0c-cc82ea240cdf button.colab-df-convert');\n",
              "        buttonEl.style.display =\n",
              "          google.colab.kernel.accessAllowed ? 'block' : 'none';\n",
              "\n",
              "        async function convertToInteractive(key) {\n",
              "          const element = document.querySelector('#df-0058dbc2-8a3c-4916-af0c-cc82ea240cdf');\n",
              "          const dataTable =\n",
              "            await google.colab.kernel.invokeFunction('convertToInteractive',\n",
              "                                                     [key], {});\n",
              "          if (!dataTable) return;\n",
              "\n",
              "          const docLinkHtml = 'Like what you see? Visit the ' +\n",
              "            '<a target=\"_blank\" href=https://colab.research.google.com/notebooks/data_table.ipynb>data table notebook</a>'\n",
              "            + ' to learn more about interactive tables.';\n",
              "          element.innerHTML = '';\n",
              "          dataTable['output_type'] = 'display_data';\n",
              "          await google.colab.output.renderOutput(dataTable, element);\n",
              "          const docLink = document.createElement('div');\n",
              "          docLink.innerHTML = docLinkHtml;\n",
              "          element.appendChild(docLink);\n",
              "        }\n",
              "      </script>\n",
              "    </div>\n",
              "  </div>\n",
              "  "
            ]
          },
          "metadata": {},
          "execution_count": 96
        }
      ]
    },
    {
      "cell_type": "code",
      "source": [
        "# пропуски NaN нужно преобразовать в нули\n",
        "# параметр inplace = True опять же поможет сохранить результат\n",
        "user_item_matrix.fillna(0, inplace = True)\n",
        "user_item_matrix.info()"
      ],
      "metadata": {
        "colab": {
          "base_uri": "https://localhost:8080/"
        },
        "id": "2kbdtTGVowlR",
        "outputId": "5bccdfb3-2111-4ed4-a39a-695beee9fff5"
      },
      "execution_count": 97,
      "outputs": [
        {
          "output_type": "stream",
          "name": "stdout",
          "text": [
            "<class 'pandas.core.frame.DataFrame'>\n",
            "Int64Index: 9724 entries, 1 to 193609\n",
            "Columns: 610 entries, 1 to 610\n",
            "dtypes: float64(610)\n",
            "memory usage: 45.3 MB\n"
          ]
        }
      ]
    },
    {
      "cell_type": "markdown",
      "source": [
        "#### Уберем всех пользователей, которые ставят мало оценок и все фильмы, у которых также мало оценок"
      ],
      "metadata": {
        "id": "VifhrcvApKqO"
      }
    },
    {
      "cell_type": "code",
      "source": [
        "# вначале сгруппируем (объединим) пользователей, возьмем только столбец rating \n",
        "# и посчитаем, сколько было оценок у каждого пользователя\n",
        "users_votes = df_rates.groupby('userId')['rating'].agg('count')\n",
        "\n",
        "# сделаем то же самое, только для фильма\n",
        "movies_votes = df_rates.groupby('movieId')['rating'].agg('count')"
      ],
      "metadata": {
        "id": "jj950hVppUCR"
      },
      "execution_count": 98,
      "outputs": []
    },
    {
      "cell_type": "code",
      "source": [
        "# теперь создадим фильтр (mask)\n",
        "user_mask = users_votes[users_votes > 50].index\n",
        "movie_mask = movies_votes[movies_votes > 10].index"
      ],
      "metadata": {
        "id": "sUAezpyTo0o3"
      },
      "execution_count": 99,
      "outputs": []
    },
    {
      "cell_type": "code",
      "source": [
        "# применим фильтры и отберем фильмы с достаточным количеством оценок\n",
        "user_item_matrix = user_item_matrix.loc[movie_mask,:]\n",
        "\n",
        "# а также активных пользователей\n",
        "user_item_matrix = user_item_matrix.loc[:,user_mask]"
      ],
      "metadata": {
        "id": "vuWdW_60o0iy"
      },
      "execution_count": 100,
      "outputs": []
    },
    {
      "cell_type": "code",
      "source": [
        "user_item_matrix.info()\n"
      ],
      "metadata": {
        "colab": {
          "base_uri": "https://localhost:8080/"
        },
        "id": "3H_CK-9Jo0bK",
        "outputId": "dde3d201-6e39-4f3a-b9c4-67bd69657cc8"
      },
      "execution_count": 101,
      "outputs": [
        {
          "output_type": "stream",
          "name": "stdout",
          "text": [
            "<class 'pandas.core.frame.DataFrame'>\n",
            "Int64Index: 2121 entries, 1 to 187593\n",
            "Columns: 378 entries, 1 to 610\n",
            "dtypes: float64(378)\n",
            "memory usage: 6.1 MB\n"
          ]
        }
      ]
    },
    {
      "cell_type": "markdown",
      "source": [
        "#### Данные существенно сократились, также в нашей матрице очень много нулей, такая матрица называется разреженной, к тому же наша матрица с высокой размерностью, и мы будем очень долго по ней считать, как для этого мы и импортировали библиотеку **csr_matrix**\n"
      ],
      "metadata": {
        "id": "aeitbccSpu94"
      }
    },
    {
      "cell_type": "markdown",
      "source": [
        "#### Следуюущая функция, оставит только не нулевые значений, для быстрой работы алгоритма "
      ],
      "metadata": {
        "id": "zjsNDzYbqUo_"
      }
    },
    {
      "cell_type": "code",
      "source": [
        "csr_data = csr_matrix(user_item_matrix.values)\n",
        "print(csr_data)"
      ],
      "metadata": {
        "colab": {
          "base_uri": "https://localhost:8080/"
        },
        "id": "gM7lJIThqSwZ",
        "outputId": "518bf324-5223-48f5-ecd9-65e89ed6bf17"
      },
      "execution_count": 102,
      "outputs": [
        {
          "output_type": "stream",
          "name": "stdout",
          "text": [
            "  (0, 0)\t4.0\n",
            "  (0, 3)\t4.5\n",
            "  (0, 6)\t2.5\n",
            "  (0, 8)\t4.5\n",
            "  (0, 9)\t3.5\n",
            "  (0, 10)\t4.0\n",
            "  (0, 12)\t3.5\n",
            "  (0, 16)\t3.0\n",
            "  (0, 19)\t3.0\n",
            "  (0, 20)\t3.0\n",
            "  (0, 25)\t5.0\n",
            "  (0, 28)\t5.0\n",
            "  (0, 29)\t4.0\n",
            "  (0, 31)\t3.0\n",
            "  (0, 34)\t5.0\n",
            "  (0, 38)\t5.0\n",
            "  (0, 39)\t4.0\n",
            "  (0, 40)\t4.0\n",
            "  (0, 41)\t2.5\n",
            "  (0, 43)\t4.5\n",
            "  (0, 46)\t0.5\n",
            "  (0, 47)\t4.0\n",
            "  (0, 50)\t2.5\n",
            "  (0, 53)\t4.0\n",
            "  (0, 55)\t3.0\n",
            "  :\t:\n",
            "  (2118, 205)\t4.0\n",
            "  (2118, 345)\t1.5\n",
            "  (2118, 357)\t4.0\n",
            "  (2118, 369)\t4.5\n",
            "  (2119, 37)\t3.5\n",
            "  (2119, 62)\t3.0\n",
            "  (2119, 98)\t0.5\n",
            "  (2119, 127)\t4.5\n",
            "  (2119, 156)\t4.5\n",
            "  (2119, 236)\t0.5\n",
            "  (2119, 256)\t4.5\n",
            "  (2119, 317)\t2.0\n",
            "  (2119, 345)\t2.0\n",
            "  (2119, 357)\t5.0\n",
            "  (2119, 365)\t3.5\n",
            "  (2120, 37)\t4.0\n",
            "  (2120, 62)\t5.0\n",
            "  (2120, 146)\t2.5\n",
            "  (2120, 155)\t4.5\n",
            "  (2120, 156)\t5.0\n",
            "  (2120, 186)\t5.0\n",
            "  (2120, 205)\t4.0\n",
            "  (2120, 236)\t3.0\n",
            "  (2120, 317)\t3.5\n",
            "  (2120, 357)\t4.0\n"
          ]
        }
      ]
    },
    {
      "cell_type": "code",
      "source": [
        "# остается только сбросить индекс с помощью reset_index()\n",
        "# это необходимо для удобства поиска фильма по индексу, ведь мы удалили много индексов, и чтобы было проще работать\n",
        "user_item_matrix = user_item_matrix.rename_axis(None, axis = 1).reset_index()\n",
        "user_item_matrix.head()"
      ],
      "metadata": {
        "colab": {
          "base_uri": "https://localhost:8080/",
          "height": 235
        },
        "id": "g28887HOqSp1",
        "outputId": "8944c877-0638-4880-9161-74d137c0f0f1"
      },
      "execution_count": 103,
      "outputs": [
        {
          "output_type": "execute_result",
          "data": {
            "text/plain": [
              "   movieId    1    4    6    7   10   11   15   16   17  ...  600  601  602  \\\n",
              "0        1  4.0  0.0  0.0  4.5  0.0  0.0  2.5  0.0  4.5  ...  2.5  4.0  0.0   \n",
              "1        2  0.0  0.0  4.0  0.0  0.0  0.0  0.0  0.0  0.0  ...  4.0  0.0  4.0   \n",
              "2        3  4.0  0.0  5.0  0.0  0.0  0.0  0.0  0.0  0.0  ...  0.0  0.0  0.0   \n",
              "3        5  0.0  0.0  5.0  0.0  0.0  0.0  0.0  0.0  0.0  ...  2.5  0.0  0.0   \n",
              "4        6  4.0  0.0  4.0  0.0  0.0  5.0  0.0  0.0  0.0  ...  0.0  0.0  3.0   \n",
              "\n",
              "   603  604  605  606  607  608  610  \n",
              "0  4.0  3.0  4.0  2.5  4.0  2.5  5.0  \n",
              "1  0.0  5.0  3.5  0.0  0.0  2.0  0.0  \n",
              "2  0.0  0.0  0.0  0.0  0.0  2.0  0.0  \n",
              "3  0.0  3.0  0.0  0.0  0.0  0.0  0.0  \n",
              "4  4.0  3.0  0.0  0.0  0.0  0.0  5.0  \n",
              "\n",
              "[5 rows x 379 columns]"
            ],
            "text/html": [
              "\n",
              "  <div id=\"df-2c376be3-07f6-4012-a20c-d1fac4a259b4\">\n",
              "    <div class=\"colab-df-container\">\n",
              "      <div>\n",
              "<style scoped>\n",
              "    .dataframe tbody tr th:only-of-type {\n",
              "        vertical-align: middle;\n",
              "    }\n",
              "\n",
              "    .dataframe tbody tr th {\n",
              "        vertical-align: top;\n",
              "    }\n",
              "\n",
              "    .dataframe thead th {\n",
              "        text-align: right;\n",
              "    }\n",
              "</style>\n",
              "<table border=\"1\" class=\"dataframe\">\n",
              "  <thead>\n",
              "    <tr style=\"text-align: right;\">\n",
              "      <th></th>\n",
              "      <th>movieId</th>\n",
              "      <th>1</th>\n",
              "      <th>4</th>\n",
              "      <th>6</th>\n",
              "      <th>7</th>\n",
              "      <th>10</th>\n",
              "      <th>11</th>\n",
              "      <th>15</th>\n",
              "      <th>16</th>\n",
              "      <th>17</th>\n",
              "      <th>...</th>\n",
              "      <th>600</th>\n",
              "      <th>601</th>\n",
              "      <th>602</th>\n",
              "      <th>603</th>\n",
              "      <th>604</th>\n",
              "      <th>605</th>\n",
              "      <th>606</th>\n",
              "      <th>607</th>\n",
              "      <th>608</th>\n",
              "      <th>610</th>\n",
              "    </tr>\n",
              "  </thead>\n",
              "  <tbody>\n",
              "    <tr>\n",
              "      <th>0</th>\n",
              "      <td>1</td>\n",
              "      <td>4.0</td>\n",
              "      <td>0.0</td>\n",
              "      <td>0.0</td>\n",
              "      <td>4.5</td>\n",
              "      <td>0.0</td>\n",
              "      <td>0.0</td>\n",
              "      <td>2.5</td>\n",
              "      <td>0.0</td>\n",
              "      <td>4.5</td>\n",
              "      <td>...</td>\n",
              "      <td>2.5</td>\n",
              "      <td>4.0</td>\n",
              "      <td>0.0</td>\n",
              "      <td>4.0</td>\n",
              "      <td>3.0</td>\n",
              "      <td>4.0</td>\n",
              "      <td>2.5</td>\n",
              "      <td>4.0</td>\n",
              "      <td>2.5</td>\n",
              "      <td>5.0</td>\n",
              "    </tr>\n",
              "    <tr>\n",
              "      <th>1</th>\n",
              "      <td>2</td>\n",
              "      <td>0.0</td>\n",
              "      <td>0.0</td>\n",
              "      <td>4.0</td>\n",
              "      <td>0.0</td>\n",
              "      <td>0.0</td>\n",
              "      <td>0.0</td>\n",
              "      <td>0.0</td>\n",
              "      <td>0.0</td>\n",
              "      <td>0.0</td>\n",
              "      <td>...</td>\n",
              "      <td>4.0</td>\n",
              "      <td>0.0</td>\n",
              "      <td>4.0</td>\n",
              "      <td>0.0</td>\n",
              "      <td>5.0</td>\n",
              "      <td>3.5</td>\n",
              "      <td>0.0</td>\n",
              "      <td>0.0</td>\n",
              "      <td>2.0</td>\n",
              "      <td>0.0</td>\n",
              "    </tr>\n",
              "    <tr>\n",
              "      <th>2</th>\n",
              "      <td>3</td>\n",
              "      <td>4.0</td>\n",
              "      <td>0.0</td>\n",
              "      <td>5.0</td>\n",
              "      <td>0.0</td>\n",
              "      <td>0.0</td>\n",
              "      <td>0.0</td>\n",
              "      <td>0.0</td>\n",
              "      <td>0.0</td>\n",
              "      <td>0.0</td>\n",
              "      <td>...</td>\n",
              "      <td>0.0</td>\n",
              "      <td>0.0</td>\n",
              "      <td>0.0</td>\n",
              "      <td>0.0</td>\n",
              "      <td>0.0</td>\n",
              "      <td>0.0</td>\n",
              "      <td>0.0</td>\n",
              "      <td>0.0</td>\n",
              "      <td>2.0</td>\n",
              "      <td>0.0</td>\n",
              "    </tr>\n",
              "    <tr>\n",
              "      <th>3</th>\n",
              "      <td>5</td>\n",
              "      <td>0.0</td>\n",
              "      <td>0.0</td>\n",
              "      <td>5.0</td>\n",
              "      <td>0.0</td>\n",
              "      <td>0.0</td>\n",
              "      <td>0.0</td>\n",
              "      <td>0.0</td>\n",
              "      <td>0.0</td>\n",
              "      <td>0.0</td>\n",
              "      <td>...</td>\n",
              "      <td>2.5</td>\n",
              "      <td>0.0</td>\n",
              "      <td>0.0</td>\n",
              "      <td>0.0</td>\n",
              "      <td>3.0</td>\n",
              "      <td>0.0</td>\n",
              "      <td>0.0</td>\n",
              "      <td>0.0</td>\n",
              "      <td>0.0</td>\n",
              "      <td>0.0</td>\n",
              "    </tr>\n",
              "    <tr>\n",
              "      <th>4</th>\n",
              "      <td>6</td>\n",
              "      <td>4.0</td>\n",
              "      <td>0.0</td>\n",
              "      <td>4.0</td>\n",
              "      <td>0.0</td>\n",
              "      <td>0.0</td>\n",
              "      <td>5.0</td>\n",
              "      <td>0.0</td>\n",
              "      <td>0.0</td>\n",
              "      <td>0.0</td>\n",
              "      <td>...</td>\n",
              "      <td>0.0</td>\n",
              "      <td>0.0</td>\n",
              "      <td>3.0</td>\n",
              "      <td>4.0</td>\n",
              "      <td>3.0</td>\n",
              "      <td>0.0</td>\n",
              "      <td>0.0</td>\n",
              "      <td>0.0</td>\n",
              "      <td>0.0</td>\n",
              "      <td>5.0</td>\n",
              "    </tr>\n",
              "  </tbody>\n",
              "</table>\n",
              "<p>5 rows × 379 columns</p>\n",
              "</div>\n",
              "      <button class=\"colab-df-convert\" onclick=\"convertToInteractive('df-2c376be3-07f6-4012-a20c-d1fac4a259b4')\"\n",
              "              title=\"Convert this dataframe to an interactive table.\"\n",
              "              style=\"display:none;\">\n",
              "        \n",
              "  <svg xmlns=\"http://www.w3.org/2000/svg\" height=\"24px\"viewBox=\"0 0 24 24\"\n",
              "       width=\"24px\">\n",
              "    <path d=\"M0 0h24v24H0V0z\" fill=\"none\"/>\n",
              "    <path d=\"M18.56 5.44l.94 2.06.94-2.06 2.06-.94-2.06-.94-.94-2.06-.94 2.06-2.06.94zm-11 1L8.5 8.5l.94-2.06 2.06-.94-2.06-.94L8.5 2.5l-.94 2.06-2.06.94zm10 10l.94 2.06.94-2.06 2.06-.94-2.06-.94-.94-2.06-.94 2.06-2.06.94z\"/><path d=\"M17.41 7.96l-1.37-1.37c-.4-.4-.92-.59-1.43-.59-.52 0-1.04.2-1.43.59L10.3 9.45l-7.72 7.72c-.78.78-.78 2.05 0 2.83L4 21.41c.39.39.9.59 1.41.59.51 0 1.02-.2 1.41-.59l7.78-7.78 2.81-2.81c.8-.78.8-2.07 0-2.86zM5.41 20L4 18.59l7.72-7.72 1.47 1.35L5.41 20z\"/>\n",
              "  </svg>\n",
              "      </button>\n",
              "      \n",
              "  <style>\n",
              "    .colab-df-container {\n",
              "      display:flex;\n",
              "      flex-wrap:wrap;\n",
              "      gap: 12px;\n",
              "    }\n",
              "\n",
              "    .colab-df-convert {\n",
              "      background-color: #E8F0FE;\n",
              "      border: none;\n",
              "      border-radius: 50%;\n",
              "      cursor: pointer;\n",
              "      display: none;\n",
              "      fill: #1967D2;\n",
              "      height: 32px;\n",
              "      padding: 0 0 0 0;\n",
              "      width: 32px;\n",
              "    }\n",
              "\n",
              "    .colab-df-convert:hover {\n",
              "      background-color: #E2EBFA;\n",
              "      box-shadow: 0px 1px 2px rgba(60, 64, 67, 0.3), 0px 1px 3px 1px rgba(60, 64, 67, 0.15);\n",
              "      fill: #174EA6;\n",
              "    }\n",
              "\n",
              "    [theme=dark] .colab-df-convert {\n",
              "      background-color: #3B4455;\n",
              "      fill: #D2E3FC;\n",
              "    }\n",
              "\n",
              "    [theme=dark] .colab-df-convert:hover {\n",
              "      background-color: #434B5C;\n",
              "      box-shadow: 0px 1px 3px 1px rgba(0, 0, 0, 0.15);\n",
              "      filter: drop-shadow(0px 1px 2px rgba(0, 0, 0, 0.3));\n",
              "      fill: #FFFFFF;\n",
              "    }\n",
              "  </style>\n",
              "\n",
              "      <script>\n",
              "        const buttonEl =\n",
              "          document.querySelector('#df-2c376be3-07f6-4012-a20c-d1fac4a259b4 button.colab-df-convert');\n",
              "        buttonEl.style.display =\n",
              "          google.colab.kernel.accessAllowed ? 'block' : 'none';\n",
              "\n",
              "        async function convertToInteractive(key) {\n",
              "          const element = document.querySelector('#df-2c376be3-07f6-4012-a20c-d1fac4a259b4');\n",
              "          const dataTable =\n",
              "            await google.colab.kernel.invokeFunction('convertToInteractive',\n",
              "                                                     [key], {});\n",
              "          if (!dataTable) return;\n",
              "\n",
              "          const docLinkHtml = 'Like what you see? Visit the ' +\n",
              "            '<a target=\"_blank\" href=https://colab.research.google.com/notebooks/data_table.ipynb>data table notebook</a>'\n",
              "            + ' to learn more about interactive tables.';\n",
              "          element.innerHTML = '';\n",
              "          dataTable['output_type'] = 'display_data';\n",
              "          await google.colab.output.renderOutput(dataTable, element);\n",
              "          const docLink = document.createElement('div');\n",
              "          docLink.innerHTML = docLinkHtml;\n",
              "          element.appendChild(docLink);\n",
              "        }\n",
              "      </script>\n",
              "    </div>\n",
              "  </div>\n",
              "  "
            ]
          },
          "metadata": {},
          "execution_count": 103
        }
      ]
    },
    {
      "cell_type": "markdown",
      "source": [
        "### Обучение модели"
      ],
      "metadata": {
        "id": "ThRnF0kunWG-"
      }
    },
    {
      "cell_type": "markdown",
      "source": [
        "#### Для наших целей нам достаточно измерить расстояние между объектами. В этом нам поможет класс машинного обучения без учителя NearestNeighbors. Т.к нам необходимо будет только посчитать расстояния  мы используем алгоритм без учителя"
      ],
      "metadata": {
        "id": "r5bBuzV1rcFb"
      }
    },
    {
      "cell_type": "code",
      "source": [
        "# воспользуемся классом NearestNeighbors для поиска расстояний\n",
        "knn = NearestNeighbors(metric = 'cosine', algorithm = 'brute', n_neighbors = 20, n_jobs = -1)\n",
        "\n",
        "# обучим модель\n",
        "knn.fit(csr_data)"
      ],
      "metadata": {
        "colab": {
          "base_uri": "https://localhost:8080/"
        },
        "id": "nwLgpvJDq07V",
        "outputId": "153b6ebc-6a3e-46fa-fd12-d46771beaacf"
      },
      "execution_count": 104,
      "outputs": [
        {
          "output_type": "execute_result",
          "data": {
            "text/plain": [
              "NearestNeighbors(algorithm='brute', metric='cosine', n_jobs=-1, n_neighbors=20)"
            ]
          },
          "metadata": {},
          "execution_count": 104
        }
      ]
    },
    {
      "cell_type": "markdown",
      "source": [
        "metric = ‘cosine’: выбираем способ измерения расстояния, в нашем случае это будет косинусное сходство\n",
        "\n",
        "algorithm = ‘brute’: предполагает, что мы будем искать решение методом полного перебора (brute force search), в данном случае пространство решений позволяет перебрать все варианты\n",
        "\n",
        "n_neighbors = 20: по скольким соседям ведется обучение\n",
        "\n",
        "n_jobs = -1: в этом случае предполагается, что вычисления будут вестись на всех свободных ядрах процессора"
      ],
      "metadata": {
        "id": "jpZeRttSr06x"
      }
    },
    {
      "cell_type": "markdown",
      "source": [
        "### Составления рекомендаций"
      ],
      "metadata": {
        "id": "nu_tYHVxtKes"
      }
    },
    {
      "cell_type": "code",
      "source": [
        "# количество рекомендаций\n",
        "recoms = 10\n",
        "# Фильм на основе которого мы ищем и считаем\n",
        "search = 'Matrix'"
      ],
      "metadata": {
        "id": "zbYkGIdVtUJg"
      },
      "execution_count": 105,
      "outputs": []
    },
    {
      "cell_type": "code",
      "source": [
        "# для начала найдем фильм в заголовках датафрейма movies\n",
        "movie_search = df_movies[df_movies['title'].str.contains(search)]\n",
        "movie_search"
      ],
      "metadata": {
        "colab": {
          "base_uri": "https://localhost:8080/",
          "height": 143
        },
        "id": "xhfRbhP-tT_G",
        "outputId": "3be9935c-3f4d-462c-fddd-5244c9b13137"
      },
      "execution_count": 106,
      "outputs": [
        {
          "output_type": "execute_result",
          "data": {
            "text/plain": [
              "      movieId                           title  \\\n",
              "1939     2571              Matrix, The (1999)   \n",
              "4351     6365     Matrix Reloaded, The (2003)   \n",
              "4639     6934  Matrix Revolutions, The (2003)   \n",
              "\n",
              "                                     genres  \n",
              "1939                 Action|Sci-Fi|Thriller  \n",
              "4351  Action|Adventure|Sci-Fi|Thriller|IMAX  \n",
              "4639  Action|Adventure|Sci-Fi|Thriller|IMAX  "
            ],
            "text/html": [
              "\n",
              "  <div id=\"df-4feb0fbd-a67b-4541-9b18-74b5b33e7dee\">\n",
              "    <div class=\"colab-df-container\">\n",
              "      <div>\n",
              "<style scoped>\n",
              "    .dataframe tbody tr th:only-of-type {\n",
              "        vertical-align: middle;\n",
              "    }\n",
              "\n",
              "    .dataframe tbody tr th {\n",
              "        vertical-align: top;\n",
              "    }\n",
              "\n",
              "    .dataframe thead th {\n",
              "        text-align: right;\n",
              "    }\n",
              "</style>\n",
              "<table border=\"1\" class=\"dataframe\">\n",
              "  <thead>\n",
              "    <tr style=\"text-align: right;\">\n",
              "      <th></th>\n",
              "      <th>movieId</th>\n",
              "      <th>title</th>\n",
              "      <th>genres</th>\n",
              "    </tr>\n",
              "  </thead>\n",
              "  <tbody>\n",
              "    <tr>\n",
              "      <th>1939</th>\n",
              "      <td>2571</td>\n",
              "      <td>Matrix, The (1999)</td>\n",
              "      <td>Action|Sci-Fi|Thriller</td>\n",
              "    </tr>\n",
              "    <tr>\n",
              "      <th>4351</th>\n",
              "      <td>6365</td>\n",
              "      <td>Matrix Reloaded, The (2003)</td>\n",
              "      <td>Action|Adventure|Sci-Fi|Thriller|IMAX</td>\n",
              "    </tr>\n",
              "    <tr>\n",
              "      <th>4639</th>\n",
              "      <td>6934</td>\n",
              "      <td>Matrix Revolutions, The (2003)</td>\n",
              "      <td>Action|Adventure|Sci-Fi|Thriller|IMAX</td>\n",
              "    </tr>\n",
              "  </tbody>\n",
              "</table>\n",
              "</div>\n",
              "      <button class=\"colab-df-convert\" onclick=\"convertToInteractive('df-4feb0fbd-a67b-4541-9b18-74b5b33e7dee')\"\n",
              "              title=\"Convert this dataframe to an interactive table.\"\n",
              "              style=\"display:none;\">\n",
              "        \n",
              "  <svg xmlns=\"http://www.w3.org/2000/svg\" height=\"24px\"viewBox=\"0 0 24 24\"\n",
              "       width=\"24px\">\n",
              "    <path d=\"M0 0h24v24H0V0z\" fill=\"none\"/>\n",
              "    <path d=\"M18.56 5.44l.94 2.06.94-2.06 2.06-.94-2.06-.94-.94-2.06-.94 2.06-2.06.94zm-11 1L8.5 8.5l.94-2.06 2.06-.94-2.06-.94L8.5 2.5l-.94 2.06-2.06.94zm10 10l.94 2.06.94-2.06 2.06-.94-2.06-.94-.94-2.06-.94 2.06-2.06.94z\"/><path d=\"M17.41 7.96l-1.37-1.37c-.4-.4-.92-.59-1.43-.59-.52 0-1.04.2-1.43.59L10.3 9.45l-7.72 7.72c-.78.78-.78 2.05 0 2.83L4 21.41c.39.39.9.59 1.41.59.51 0 1.02-.2 1.41-.59l7.78-7.78 2.81-2.81c.8-.78.8-2.07 0-2.86zM5.41 20L4 18.59l7.72-7.72 1.47 1.35L5.41 20z\"/>\n",
              "  </svg>\n",
              "      </button>\n",
              "      \n",
              "  <style>\n",
              "    .colab-df-container {\n",
              "      display:flex;\n",
              "      flex-wrap:wrap;\n",
              "      gap: 12px;\n",
              "    }\n",
              "\n",
              "    .colab-df-convert {\n",
              "      background-color: #E8F0FE;\n",
              "      border: none;\n",
              "      border-radius: 50%;\n",
              "      cursor: pointer;\n",
              "      display: none;\n",
              "      fill: #1967D2;\n",
              "      height: 32px;\n",
              "      padding: 0 0 0 0;\n",
              "      width: 32px;\n",
              "    }\n",
              "\n",
              "    .colab-df-convert:hover {\n",
              "      background-color: #E2EBFA;\n",
              "      box-shadow: 0px 1px 2px rgba(60, 64, 67, 0.3), 0px 1px 3px 1px rgba(60, 64, 67, 0.15);\n",
              "      fill: #174EA6;\n",
              "    }\n",
              "\n",
              "    [theme=dark] .colab-df-convert {\n",
              "      background-color: #3B4455;\n",
              "      fill: #D2E3FC;\n",
              "    }\n",
              "\n",
              "    [theme=dark] .colab-df-convert:hover {\n",
              "      background-color: #434B5C;\n",
              "      box-shadow: 0px 1px 3px 1px rgba(0, 0, 0, 0.15);\n",
              "      filter: drop-shadow(0px 1px 2px rgba(0, 0, 0, 0.3));\n",
              "      fill: #FFFFFF;\n",
              "    }\n",
              "  </style>\n",
              "\n",
              "      <script>\n",
              "        const buttonEl =\n",
              "          document.querySelector('#df-4feb0fbd-a67b-4541-9b18-74b5b33e7dee button.colab-df-convert');\n",
              "        buttonEl.style.display =\n",
              "          google.colab.kernel.accessAllowed ? 'block' : 'none';\n",
              "\n",
              "        async function convertToInteractive(key) {\n",
              "          const element = document.querySelector('#df-4feb0fbd-a67b-4541-9b18-74b5b33e7dee');\n",
              "          const dataTable =\n",
              "            await google.colab.kernel.invokeFunction('convertToInteractive',\n",
              "                                                     [key], {});\n",
              "          if (!dataTable) return;\n",
              "\n",
              "          const docLinkHtml = 'Like what you see? Visit the ' +\n",
              "            '<a target=\"_blank\" href=https://colab.research.google.com/notebooks/data_table.ipynb>data table notebook</a>'\n",
              "            + ' to learn more about interactive tables.';\n",
              "          element.innerHTML = '';\n",
              "          dataTable['output_type'] = 'display_data';\n",
              "          await google.colab.output.renderOutput(dataTable, element);\n",
              "          const docLink = document.createElement('div');\n",
              "          docLink.innerHTML = docLinkHtml;\n",
              "          element.appendChild(docLink);\n",
              "        }\n",
              "      </script>\n",
              "    </div>\n",
              "  </div>\n",
              "  "
            ]
          },
          "metadata": {},
          "execution_count": 106
        }
      ]
    },
    {
      "cell_type": "code",
      "source": [
        "# вариантов может быть несколько, для простоты всегда будем брать первый вариант\n",
        "# через iloc[0] мы берем первую строку столбца ['movieId']\n",
        "movie_id = movie_search.iloc[0]['movieId']\n",
        "\n",
        "# далее по индексу фильма в датасете movies найдем соответствующий индекс\n",
        "# в матрице предпочтений\n",
        "movie_id = user_item_matrix[user_item_matrix['movieId'] == movie_id].index[0]\n",
        "movie_id"
      ],
      "metadata": {
        "colab": {
          "base_uri": "https://localhost:8080/"
        },
        "id": "fqxirqNjt6kK",
        "outputId": "dd5694e9-c91a-4b02-d076-d04039829464"
      },
      "execution_count": 107,
      "outputs": [
        {
          "output_type": "execute_result",
          "data": {
            "text/plain": [
              "901"
            ]
          },
          "metadata": {},
          "execution_count": 107
        }
      ]
    },
    {
      "cell_type": "markdown",
      "source": [
        "#### С помощью нашей системы, ищем ближайшией фильмы и расстояния до них, соседей берем +1 т.к алгоритм также рассматривает расстояние и в самом себе"
      ],
      "metadata": {
        "id": "NkUCGCkkuMso"
      }
    },
    {
      "cell_type": "code",
      "source": [
        "# теперь нужно найти индексы и расстояния фильмов, которые похожи на наш запрос\n",
        "# воспользуемся методом kneighbors()\n",
        "distances, indices = knn.kneighbors(csr_data[movie_id], n_neighbors = recoms + 1)"
      ],
      "metadata": {
        "id": "EqOXqx4ztT6P"
      },
      "execution_count": 108,
      "outputs": []
    },
    {
      "cell_type": "code",
      "source": [
        "# индексы рекомендованных фильмов\n",
        "indices"
      ],
      "metadata": {
        "colab": {
          "base_uri": "https://localhost:8080/"
        },
        "id": "FPg8dfVetTzt",
        "outputId": "aea90f31-3b0b-47c4-f4fc-f1d58b67371b"
      },
      "execution_count": 109,
      "outputs": [
        {
          "output_type": "execute_result",
          "data": {
            "text/plain": [
              "array([[ 901, 1002,  442,  454,  124,  735,  954, 1362, 1157, 1536,  978]])"
            ]
          },
          "metadata": {},
          "execution_count": 109
        }
      ]
    },
    {
      "cell_type": "code",
      "source": [
        "# расстояния до них\n",
        "distances"
      ],
      "metadata": {
        "colab": {
          "base_uri": "https://localhost:8080/"
        },
        "id": "3XpMkSfcufRh",
        "outputId": "3138b1c0-83ef-4d5b-a42c-007923062126"
      },
      "execution_count": 110,
      "outputs": [
        {
          "output_type": "execute_result",
          "data": {
            "text/plain": [
              "array([[0.        , 0.22982441, 0.25401128, 0.27565617, 0.27760886,\n",
              "        0.28691008, 0.29111012, 0.31393358, 0.31405926, 0.31548004,\n",
              "        0.31748544]])"
            ]
          },
          "metadata": {},
          "execution_count": 110
        }
      ]
    },
    {
      "cell_type": "code",
      "source": [
        "# уберем лишние измерения через squeeze() и преобразуем массивы в списки с помощью tolist()\n",
        "indices_list = indices.squeeze().tolist()\n",
        "distances_list = distances.squeeze().tolist()"
      ],
      "metadata": {
        "id": "CEfeKU4yufm5"
      },
      "execution_count": 111,
      "outputs": []
    },
    {
      "cell_type": "code",
      "source": [
        "indices_list"
      ],
      "metadata": {
        "colab": {
          "base_uri": "https://localhost:8080/"
        },
        "id": "aXYYafUK43Ma",
        "outputId": "53c88d79-d332-4a96-cf72-935c34bd17f3"
      },
      "execution_count": 112,
      "outputs": [
        {
          "output_type": "execute_result",
          "data": {
            "text/plain": [
              "[901, 1002, 442, 454, 124, 735, 954, 1362, 1157, 1536, 978]"
            ]
          },
          "metadata": {},
          "execution_count": 112
        }
      ]
    },
    {
      "cell_type": "code",
      "source": [
        "# далее с помощью функций zip и list преобразуем наши списки  в набор кортежей (tuple)\n",
        "indices_distances = list(zip(indices_list, distances_list))\n",
        "indices_distances\n"
      ],
      "metadata": {
        "colab": {
          "base_uri": "https://localhost:8080/"
        },
        "id": "v0e2vpeK44ia",
        "outputId": "4df7cc0e-cd7c-47d8-9df8-000bbeee226e"
      },
      "execution_count": 113,
      "outputs": [
        {
          "output_type": "execute_result",
          "data": {
            "text/plain": [
              "[(901, 0.0),\n",
              " (1002, 0.22982440568634488),\n",
              " (442, 0.25401128310081567),\n",
              " (454, 0.27565616686043737),\n",
              " (124, 0.2776088577731709),\n",
              " (735, 0.2869100842838125),\n",
              " (954, 0.2911101181714415),\n",
              " (1362, 0.31393358217709477),\n",
              " (1157, 0.31405925934381695),\n",
              " (1536, 0.3154800434449465),\n",
              " (978, 0.31748544046311844)]"
            ]
          },
          "metadata": {},
          "execution_count": 113
        }
      ]
    },
    {
      "cell_type": "code",
      "source": [
        "# остается отсортировать список по расстояниям через key = lambda x: x[1] (то есть по второму элементу)\n",
        "indices_distances_sorted = sorted(indices_distances, key = lambda x: x[1])\n",
        "# Т.к 0 это сама матрица \n",
        "indices_distances_sorted = indices_distances_sorted[1:]\n",
        "indices_distances_sorted"
      ],
      "metadata": {
        "colab": {
          "base_uri": "https://localhost:8080/"
        },
        "id": "CGX37ZmA5uh9",
        "outputId": "b1ed163b-7ca9-4692-d52d-0cc56627518f"
      },
      "execution_count": 114,
      "outputs": [
        {
          "output_type": "execute_result",
          "data": {
            "text/plain": [
              "[(1002, 0.22982440568634488),\n",
              " (442, 0.25401128310081567),\n",
              " (454, 0.27565616686043737),\n",
              " (124, 0.2776088577731709),\n",
              " (735, 0.2869100842838125),\n",
              " (954, 0.2911101181714415),\n",
              " (1362, 0.31393358217709477),\n",
              " (1157, 0.31405925934381695),\n",
              " (1536, 0.3154800434449465),\n",
              " (978, 0.31748544046311844)]"
            ]
          },
          "metadata": {},
          "execution_count": 114
        }
      ]
    },
    {
      "cell_type": "markdown",
      "source": [
        "#### Теперь надо вывести все эти фильмы вместе с дистанциями "
      ],
      "metadata": {
        "id": "GXJ0EdR-6kil"
      }
    },
    {
      "cell_type": "code",
      "source": [
        "def films_and_dists(indices_distances_sorted):\n",
        "  names_and_dists = []\n",
        "  for i in indices_distances_sorted:\n",
        "    # искать movieId в матрице предпочтений\n",
        "    matrix_movie_id = user_item_matrix.iloc[i[0]]['movieId']\n",
        "\n",
        "    # выяснять индекс этого фильма в датафрейме movies\n",
        "    id = df_movies[df_movies['movieId'] == matrix_movie_id].index\n",
        "\n",
        "\n",
        "    name = df_movies.iloc[id]['title'].values[0]\n",
        "    dist = i[1]\n",
        "    names_and_dists.append((name,dist))\n",
        "  return names_and_dists\n",
        "\n",
        "films_and_dists(indices_distances_sorted)"
      ],
      "metadata": {
        "colab": {
          "base_uri": "https://localhost:8080/"
        },
        "id": "sc2lHgTv520a",
        "outputId": "286783bc-180f-436d-cf55-bbcd6f5649be"
      },
      "execution_count": 115,
      "outputs": [
        {
          "output_type": "execute_result",
          "data": {
            "text/plain": [
              "[('Fight Club (1999)', 0.22982440568634488),\n",
              " ('Star Wars: Episode V - The Empire Strikes Back (1980)',\n",
              "  0.25401128310081567),\n",
              " ('Star Wars: Episode VI - Return of the Jedi (1983)', 0.27565616686043737),\n",
              " ('Star Wars: Episode IV - A New Hope (1977)', 0.2776088577731709),\n",
              " ('Saving Private Ryan (1998)', 0.2869100842838125),\n",
              " ('Sixth Sense, The (1999)', 0.2911101181714415),\n",
              " ('Lord of the Rings: The Fellowship of the Ring, The (2001)',\n",
              "  0.31393358217709477),\n",
              " ('Gladiator (2000)', 0.31405925934381695),\n",
              " ('Lord of the Rings: The Return of the King, The (2003)', 0.3154800434449465),\n",
              " ('American Beauty (1999)', 0.31748544046311844)]"
            ]
          },
          "metadata": {},
          "execution_count": 115
        }
      ]
    },
    {
      "cell_type": "markdown",
      "source": [
        "### Улучшения"
      ],
      "metadata": {
        "id": "sNUgwZ8d85Tf"
      }
    },
    {
      "cell_type": "markdown",
      "source": [
        "#### Попробуем вместо уменьшения датасета, для повышения производительности, просто поменяем алгоритм с грубого перебора на BAll Tree, и тогда мы сможем оставить исходный датасет\n",
        "\n",
        "Было:\n",
        "\n",
        "Int64Index: 2121 entries, 1 to 187593\n",
        "Columns: 378 entries, 1 to 610\n",
        "\n",
        "Стало:\n",
        "\n",
        "Int64Index: 9724 entries, 1 to 193609 \n",
        "Columns: 610 entries, 1 to 610\n",
        "\n"
      ],
      "metadata": {
        "id": "580qiMH11YfB"
      }
    },
    {
      "cell_type": "code",
      "source": [
        "full_matrix = df_rates.pivot(index = 'movieId', columns = 'userId', values= 'rating')\n",
        "full_matrix.fillna(0, inplace = True)\n",
        "full_matrix.info()\n",
        "full_matrix = full_matrix.rename_axis(None, axis = 1).reset_index()"
      ],
      "metadata": {
        "id": "GDsCFsCl7r1-",
        "colab": {
          "base_uri": "https://localhost:8080/"
        },
        "outputId": "51625bcd-96e6-48ea-c5ae-b3c617c2562d"
      },
      "execution_count": 116,
      "outputs": [
        {
          "output_type": "stream",
          "name": "stdout",
          "text": [
            "<class 'pandas.core.frame.DataFrame'>\n",
            "Int64Index: 9724 entries, 1 to 193609\n",
            "Columns: 610 entries, 1 to 610\n",
            "dtypes: float64(610)\n",
            "memory usage: 45.3 MB\n"
          ]
        }
      ]
    },
    {
      "cell_type": "code",
      "source": [
        "csr_full_data = csr_matrix(user_item_matrix.values)\n",
        "#print(csr_full_data)"
      ],
      "metadata": {
        "id": "07zvRUwG4HNh"
      },
      "execution_count": 117,
      "outputs": []
    },
    {
      "cell_type": "code",
      "source": [
        "csr_full_data"
      ],
      "metadata": {
        "colab": {
          "base_uri": "https://localhost:8080/"
        },
        "id": "bYe5Ttl9_vN0",
        "outputId": "95d46004-8ec3-46b3-c4b4-1a521ebb2105"
      },
      "execution_count": 118,
      "outputs": [
        {
          "output_type": "execute_result",
          "data": {
            "text/plain": [
              "<2121x379 sparse matrix of type '<class 'numpy.float64'>'\n",
              "\twith 75014 stored elements in Compressed Sparse Row format>"
            ]
          },
          "metadata": {},
          "execution_count": 118
        }
      ]
    },
    {
      "cell_type": "code",
      "source": [
        "from sklearn.neighbors import BallTree\n",
        "# воспользуемся классом BallTree для поиска расстояний\n",
        "knn_ball_tree = BallTree(full_matrix)\n",
        "\n",
        "# Выведем айди и расстояния до 10 ближайших соседей\n",
        "\n",
        "dist, ind = knn_ball_tree.query(full_matrix[:1],k=10)\n",
        "\n",
        "print(dist)\n",
        "\n",
        "print(ind)"
      ],
      "metadata": {
        "colab": {
          "base_uri": "https://localhost:8080/"
        },
        "id": "OOs3yeUb4P-w",
        "outputId": "652aa7cc-f7d2-47c6-ed33-95b212031bc4"
      },
      "execution_count": 119,
      "outputs": [
        {
          "output_type": "stream",
          "name": "stdout",
          "text": [
            "[[ 0.         55.16112762 56.20720594 56.62375826 57.36723804 57.39337941\n",
            "  57.6432997  57.72347876 57.75162335 57.87918451]]\n",
            "[[ 0  1  4  2  6 18  9  8  5 10]]\n"
          ]
        }
      ]
    },
    {
      "cell_type": "code",
      "source": [
        "# knn = NearestNeighbors(metric = 'cosine', algorithm = 'ball_tree', n_neighbors = 20, n_jobs = -1)\n",
        "# knn.fit(csr_data)"
      ],
      "metadata": {
        "id": "MgTEGgfAHMU7"
      },
      "execution_count": 120,
      "outputs": []
    },
    {
      "cell_type": "code",
      "source": [
        "indices_list_BT = ind.squeeze().tolist()\n",
        "distances_list_BT = dist.squeeze().tolist()\n",
        "indices_distances_BT = list(zip(indices_list_BT, distances_list_BT))\n",
        "\n",
        "indices_distances_sorted_full_matrix = sorted(indices_distances_BT, key = lambda x: x[1])\n",
        "indices_distances_sorted_full_matrix = indices_distances_sorted_full_matrix[1:]\n",
        "indices_distances_sorted_full_matrix"
      ],
      "metadata": {
        "colab": {
          "base_uri": "https://localhost:8080/"
        },
        "id": "Y15lfSnX5Hej",
        "outputId": "eb591839-8678-41b2-dc65-f3d70a99c12a"
      },
      "execution_count": 121,
      "outputs": [
        {
          "output_type": "execute_result",
          "data": {
            "text/plain": [
              "[(1, 55.161127617190715),\n",
              " (4, 56.2072059437222),\n",
              " (2, 56.62375826453062),\n",
              " (6, 57.367238037053866),\n",
              " (18, 57.39337940912697),\n",
              " (9, 57.64329969736292),\n",
              " (8, 57.723478758647246),\n",
              " (5, 57.75162335380712),\n",
              " (10, 57.879184513951124)]"
            ]
          },
          "metadata": {},
          "execution_count": 121
        }
      ]
    },
    {
      "cell_type": "code",
      "source": [
        ""
      ],
      "metadata": {
        "id": "_TMLtfZJFuQS"
      },
      "execution_count": 121,
      "outputs": []
    },
    {
      "cell_type": "code",
      "source": [
        "names_and_dists = []\n",
        "for i in indices_distances_sorted_full_matrix:\n",
        "  # искать movieId в матрице предпочтений\n",
        "  matrix_movie_id = full_matrix.iloc[i[0]]['movieId']\n",
        "\n",
        "  # выяснять индекс этого фильма в датафрейме movies\n",
        "  id = df_movies[df_movies['movieId'] == matrix_movie_id].index\n",
        "  name = df_movies.iloc[id]['title'].values[0]\n",
        "  dist = i[1]\n",
        "  names_and_dists.append((name,dist))\n",
        "names_and_dists"
      ],
      "metadata": {
        "colab": {
          "base_uri": "https://localhost:8080/"
        },
        "id": "AW1c9xDyDw2-",
        "outputId": "b9948f1c-541a-4070-c946-2efadad05359"
      },
      "execution_count": 122,
      "outputs": [
        {
          "output_type": "execute_result",
          "data": {
            "text/plain": [
              "[('Jumanji (1995)', 55.161127617190715),\n",
              " ('Father of the Bride Part II (1995)', 56.2072059437222),\n",
              " ('Grumpier Old Men (1995)', 56.62375826453062),\n",
              " ('Sabrina (1995)', 57.367238037053866),\n",
              " ('Ace Ventura: When Nature Calls (1995)', 57.39337940912697),\n",
              " ('GoldenEye (1995)', 57.64329969736292),\n",
              " ('Sudden Death (1995)', 57.723478758647246),\n",
              " ('Heat (1995)', 57.75162335380712),\n",
              " ('American President, The (1995)', 57.879184513951124)]"
            ]
          },
          "metadata": {},
          "execution_count": 122
        }
      ]
    },
    {
      "cell_type": "markdown",
      "source": [
        "##### Такие разные данные получились, потому как в первом случае, у нас были не все фильмы + мы использовали косинусное сходство, а сейчас BallTree использовало метрику меньковского"
      ],
      "metadata": {
        "id": "gHbNIZtoF8V-"
      }
    },
    {
      "cell_type": "markdown",
      "source": [
        "### P.S Оценить точность таких систем слонжо, т.к нет правильных ответов, а факт того, что ответы контринтуитивны, мало чего значит, ибо контринтуитивность != аргумент, единственный вариант это использование A/B тестов\n"
      ],
      "metadata": {
        "id": "1IKDPC4IHgyX"
      }
    }
  ]
}